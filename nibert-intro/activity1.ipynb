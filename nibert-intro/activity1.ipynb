{
 "cells": [
  {
   "cell_type": "markdown",
   "source": [
    "Exercise 4: Area of a Field Create a program that reads the length and width of a farmer’s field from the user in feet. Display the area of the field in acres"
   ],
   "metadata": {}
  },
  {
   "cell_type": "code",
   "execution_count": 8,
   "source": [
    "acre=43560\r\n",
    "w=float(input('x='))\r\n",
    "l=float(input('y='))\r\n",
    "\r\n",
    "area=(w*l)/acre\r\n",
    "print(area)"
   ],
   "outputs": [
    {
     "output_type": "error",
     "ename": "ValueError",
     "evalue": "could not convert string to float: ''",
     "traceback": [
      "\u001b[1;31m---------------------------------------------------------------------------\u001b[0m",
      "\u001b[1;31mValueError\u001b[0m                                Traceback (most recent call last)",
      "\u001b[1;32m~\\AppData\\Local\\Temp/ipykernel_7900/49765157.py\u001b[0m in \u001b[0;36m<module>\u001b[1;34m\u001b[0m\n\u001b[0;32m      1\u001b[0m \u001b[0macre\u001b[0m\u001b[1;33m=\u001b[0m\u001b[1;36m43560\u001b[0m\u001b[1;33m\u001b[0m\u001b[1;33m\u001b[0m\u001b[0m\n\u001b[1;32m----> 2\u001b[1;33m \u001b[0mw\u001b[0m\u001b[1;33m=\u001b[0m\u001b[0mfloat\u001b[0m\u001b[1;33m(\u001b[0m\u001b[0minput\u001b[0m\u001b[1;33m(\u001b[0m\u001b[1;34m'x='\u001b[0m\u001b[1;33m)\u001b[0m\u001b[1;33m)\u001b[0m\u001b[1;33m\u001b[0m\u001b[1;33m\u001b[0m\u001b[0m\n\u001b[0m\u001b[0;32m      3\u001b[0m \u001b[0ml\u001b[0m\u001b[1;33m=\u001b[0m\u001b[0mfloat\u001b[0m\u001b[1;33m(\u001b[0m\u001b[0minput\u001b[0m\u001b[1;33m(\u001b[0m\u001b[1;34m'y='\u001b[0m\u001b[1;33m)\u001b[0m\u001b[1;33m)\u001b[0m\u001b[1;33m\u001b[0m\u001b[1;33m\u001b[0m\u001b[0m\n\u001b[0;32m      4\u001b[0m \u001b[1;33m\u001b[0m\u001b[0m\n\u001b[0;32m      5\u001b[0m \u001b[0marea\u001b[0m\u001b[1;33m=\u001b[0m\u001b[1;33m(\u001b[0m\u001b[0mw\u001b[0m\u001b[1;33m*\u001b[0m\u001b[0ml\u001b[0m\u001b[1;33m)\u001b[0m\u001b[1;33m/\u001b[0m\u001b[0macre\u001b[0m\u001b[1;33m\u001b[0m\u001b[1;33m\u001b[0m\u001b[0m\n",
      "\u001b[1;31mValueError\u001b[0m: could not convert string to float: ''"
     ]
    }
   ],
   "metadata": {}
  },
  {
   "cell_type": "code",
   "execution_count": null,
   "source": [
    "food=input('this type of food is: ')\r\n",
    "print(food)"
   ],
   "outputs": [
    {
     "output_type": "stream",
     "name": "stdout",
     "text": [
      "banana\n"
     ]
    }
   ],
   "metadata": {}
  },
  {
   "cell_type": "markdown",
   "source": [
    "Exercise 5: Bottle Deposits\r\n",
    "\r\n",
    "drink containers holding one liter or less have a $0.10 deposit drink containers holding more than one liter have a $0.25 deposit\r\n",
    "\r\n",
    "Write a program that reads the number of containers of each size from the user. Your program should continue by computing and displaying the refund that will be\r\n",
    "received for returning those containers. Format the output so that it includes a dollar sign and always displays exactly two decimal places.'''"
   ],
   "metadata": {}
  },
  {
   "cell_type": "code",
   "execution_count": null,
   "source": [
    "#find how many containers of each type    \r\n",
    "small=float(input('number of small containers is:'))\r\n",
    "big=float(input('number of large containers is:'))\r\n",
    "print('number of small conatiners is ',small,'number of big containers is',big)\r\n",
    "\r\n",
    "#find cost\r\n",
    "refund=(.1*small)+(.25*big)\r\n",
    "refund=round(refund,2)\r\n",
    "\r\n",
    "print('final refund is $',refund)"
   ],
   "outputs": [
    {
     "output_type": "stream",
     "name": "stdout",
     "text": [
      "number of small conatiners is  3.0 number of big containers is 4.0\n",
      "final refund is $ 1.3\n"
     ]
    }
   ],
   "metadata": {}
  },
  {
   "cell_type": "markdown",
   "source": [
    "Exercise 7: Sum of the First n Positive Integers\r\n",
    "\r\n",
    "Write a program that reads a positive integer, n, from the user and then displays the sum of all of the integers from 1 to n. The sum of the first n positive integers can be computed using the formula:"
   ],
   "metadata": {}
  },
  {
   "cell_type": "code",
   "execution_count": null,
   "source": [
    "i=int(input('integer is:'))\r\n",
    "\r\n",
    "#sum all integers\r\n",
    "total=(i*(i+1))/2\r\n",
    "\r\n",
    "print('sum is', int(total))"
   ],
   "outputs": [
    {
     "output_type": "stream",
     "name": "stdout",
     "text": [
      "sum is 6\n"
     ]
    }
   ],
   "metadata": {}
  },
  {
   "cell_type": "markdown",
   "source": [
    "Exercise 10: Arithmetic\r\n",
    "\r\n",
    "reads two integers, a and b"
   ],
   "metadata": {}
  },
  {
   "cell_type": "code",
   "execution_count": null,
   "source": [
    "a=float(input('a is '))\r\n",
    "b=float(input('b is '))\r\n",
    "\r\n",
    "#The sum of a and b\r\n",
    "sum=a+b\r\n",
    "print('sum is ',sum)\r\n",
    "\r\n",
    "#The difference when b is subtracted from a\r\n",
    "dif=a-b\r\n",
    "print('difference is ', dif)\r\n",
    "\r\n",
    "#The product of a and b\r\n",
    "mult=a*b\r\n",
    "print('the product is ', mult)\r\n",
    "\r\n",
    "#The quotient when a is divided by b\r\n",
    "div=a/b\r\n",
    "print('the quotient is ', int(div)) #whole number?\r\n",
    "\r\n",
    "#The remainder when a is divided by b\r\n",
    "rem=a%b\r\n",
    "print('the remainder is ', rem)\r\n",
    "\r\n",
    "#The result of log10 a\r\n",
    "import math\r\n",
    "log=math.log10(a)\r\n",
    "print('log of a is ', log)\r\n",
    "\r\n",
    "#The result of a^b\r\n",
    "exp=a**b\r\n",
    "print('the result of a^b is', exp)"
   ],
   "outputs": [
    {
     "output_type": "stream",
     "name": "stdout",
     "text": [
      "sum is  7.0\n",
      "difference is  -1.0\n",
      "the product is  12.0\n",
      "the quotient is  0\n",
      "the remainder is  3.0\n",
      "log of a is  0.47712125471966244\n",
      "the result of a^b is 81.0\n"
     ]
    }
   ],
   "metadata": {}
  },
  {
   "cell_type": "markdown",
   "source": [
    "Exercise 12: Distance Between Two Points on Earth "
   ],
   "metadata": {}
  },
  {
   "cell_type": "code",
   "execution_count": 1,
   "source": [
    "#Let (t1, g1) and (t2, g2) be the latitude and longitude of two points on the Earth’s\r\n",
    "#surface. The distance between these points, following the surface of the Earth, in\r\n",
    "#kilometers is:\r\n",
    "\r\n",
    "\r\n",
    "import numpy as np"
   ],
   "outputs": [],
   "metadata": {}
  },
  {
   "cell_type": "code",
   "execution_count": null,
   "source": [
    "l1=float(input('the latitude of point 1 is '))\r\n",
    "lo1=float(input('the longitude of point 1 is '))\r\n",
    "l2=float(input('the latitude of point 2 is '))\r\n",
    "lo2=float(input('the longitude of point 2 is '))\r\n",
    "\r\n",
    "#convert to radians \r\n",
    "l1r=math.radians(l1)\r\n",
    "lo1r=math.radians(lo1)\r\n",
    "l2r=math.radians(l2)\r\n",
    "lo2r=math.radians(lo2)\r\n",
    "#distance\r\n",
    "d=6371.01*(np.arccos((np.sin(l1r)*np.sin(l2r)) + (np.cos(l1r)*np.cos(l2r)*np.cos(lo1r-lo2r))))\r\n",
    "print('the distance between two points is ', d, 'km')"
   ],
   "outputs": [
    {
     "output_type": "stream",
     "name": "stdout",
     "text": [
      "the distance between two points is  2395.9154109027377 km\n"
     ]
    }
   ],
   "metadata": {}
  }
 ],
 "metadata": {
  "orig_nbformat": 4,
  "language_info": {
   "name": "python",
   "version": "3.8.8",
   "mimetype": "text/x-python",
   "codemirror_mode": {
    "name": "ipython",
    "version": 3
   },
   "pygments_lexer": "ipython3",
   "nbconvert_exporter": "python",
   "file_extension": ".py"
  },
  "kernelspec": {
   "name": "python3",
   "display_name": "Python 3.8.8 64-bit"
  },
  "interpreter": {
   "hash": "ce028680f834da19e0fa9524a9a848a349012cb9d4a81308e4c1d44ee14247e7"
  }
 },
 "nbformat": 4,
 "nbformat_minor": 2
}