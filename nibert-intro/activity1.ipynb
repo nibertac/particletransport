{
 "cells": [
  {
   "cell_type": "markdown",
   "metadata": {},
   "source": [
    "Exercise 4: Area of a Field Create a program that reads the length and width of a farmer’s field from the user in feet. Display the area of the field in acres"
   ]
  },
  {
   "cell_type": "code",
   "execution_count": 8,
   "metadata": {},
   "outputs": [
    {
     "ename": "ValueError",
     "evalue": "could not convert string to float: ''",
     "output_type": "error",
     "traceback": [
      "\u001b[1;31m---------------------------------------------------------------------------\u001b[0m",
      "\u001b[1;31mValueError\u001b[0m                                Traceback (most recent call last)",
      "\u001b[1;32m~\\AppData\\Local\\Temp/ipykernel_7900/49765157.py\u001b[0m in \u001b[0;36m<module>\u001b[1;34m\u001b[0m\n\u001b[0;32m      1\u001b[0m \u001b[0macre\u001b[0m\u001b[1;33m=\u001b[0m\u001b[1;36m43560\u001b[0m\u001b[1;33m\u001b[0m\u001b[1;33m\u001b[0m\u001b[0m\n\u001b[1;32m----> 2\u001b[1;33m \u001b[0mw\u001b[0m\u001b[1;33m=\u001b[0m\u001b[0mfloat\u001b[0m\u001b[1;33m(\u001b[0m\u001b[0minput\u001b[0m\u001b[1;33m(\u001b[0m\u001b[1;34m'x='\u001b[0m\u001b[1;33m)\u001b[0m\u001b[1;33m)\u001b[0m\u001b[1;33m\u001b[0m\u001b[1;33m\u001b[0m\u001b[0m\n\u001b[0m\u001b[0;32m      3\u001b[0m \u001b[0ml\u001b[0m\u001b[1;33m=\u001b[0m\u001b[0mfloat\u001b[0m\u001b[1;33m(\u001b[0m\u001b[0minput\u001b[0m\u001b[1;33m(\u001b[0m\u001b[1;34m'y='\u001b[0m\u001b[1;33m)\u001b[0m\u001b[1;33m)\u001b[0m\u001b[1;33m\u001b[0m\u001b[1;33m\u001b[0m\u001b[0m\n\u001b[0;32m      4\u001b[0m \u001b[1;33m\u001b[0m\u001b[0m\n\u001b[0;32m      5\u001b[0m \u001b[0marea\u001b[0m\u001b[1;33m=\u001b[0m\u001b[1;33m(\u001b[0m\u001b[0mw\u001b[0m\u001b[1;33m*\u001b[0m\u001b[0ml\u001b[0m\u001b[1;33m)\u001b[0m\u001b[1;33m/\u001b[0m\u001b[0macre\u001b[0m\u001b[1;33m\u001b[0m\u001b[1;33m\u001b[0m\u001b[0m\n",
      "\u001b[1;31mValueError\u001b[0m: could not convert string to float: ''"
     ]
    }
   ],
   "source": [
    "acre=43560\n",
    "w=float(input('x='))\n",
    "l=float(input('y='))\n",
    "\n",
    "area=(w*l)/acre\n",
    "print(area)"
   ]
  },
  {
   "cell_type": "code",
   "execution_count": null,
   "metadata": {},
   "outputs": [
    {
     "name": "stdout",
     "output_type": "stream",
     "text": [
      "banana\n"
     ]
    }
   ],
   "source": [
    "food=input('this type of food is: ')\n",
    "print(food)"
   ]
  },
  {
   "cell_type": "markdown",
   "metadata": {},
   "source": [
    "Exercise 5: Bottle Deposits\n",
    "\n",
    "drink containers holding one liter or less have a $0.10 deposit drink containers holding more than one liter have a $0.25 deposit\n",
    "\n",
    "Write a program that reads the number of containers of each size from the user. Your program should continue by computing and displaying the refund that will be\n",
    "received for returning those containers. Format the output so that it includes a dollar sign and always displays exactly two decimal places.'''"
   ]
  },
  {
   "cell_type": "code",
   "execution_count": null,
   "metadata": {},
   "outputs": [
    {
     "name": "stdout",
     "output_type": "stream",
     "text": [
      "number of small conatiners is  3.0 number of big containers is 4.0\n",
      "final refund is $ 1.3\n"
     ]
    }
   ],
   "source": [
    "#find how many containers of each type    \n",
    "small=float(input('number of small containers is:'))\n",
    "big=float(input('number of large containers is:'))\n",
    "print('number of small conatiners is ',small,'number of big containers is',big)\n",
    "\n",
    "#find cost\n",
    "refund=(.1*small)+(.25*big)\n",
    "refund=round(refund,2)\n",
    "\n",
    "print('final refund is $',refund)"
   ]
  },
  {
   "cell_type": "markdown",
   "metadata": {},
   "source": [
    "Exercise 7: Sum of the First n Positive Integers\n",
    "\n",
    "Write a program that reads a positive integer, n, from the user and then displays the sum of all of the integers from 1 to n. The sum of the first n positive integers can be computed using the formula:"
   ]
  },
  {
   "cell_type": "code",
   "execution_count": null,
   "metadata": {},
   "outputs": [
    {
     "name": "stdout",
     "output_type": "stream",
     "text": [
      "sum is 6\n"
     ]
    }
   ],
   "source": [
    "i=int(input('integer is:'))\n",
    "\n",
    "#sum all integers\n",
    "total=(i*(i+1))/2\n",
    "\n",
    "print('sum is', int(total))"
   ]
  },
  {
   "cell_type": "markdown",
   "metadata": {},
   "source": [
    "Exercise 10: Arithmetic\n",
    "\n",
    "reads two integers, a and b"
   ]
  },
  {
   "cell_type": "code",
   "execution_count": null,
   "metadata": {},
   "outputs": [
    {
     "name": "stdout",
     "output_type": "stream",
     "text": [
      "sum is  7.0\n",
      "difference is  -1.0\n",
      "the product is  12.0\n",
      "the quotient is  0\n",
      "the remainder is  3.0\n",
      "log of a is  0.47712125471966244\n",
      "the result of a^b is 81.0\n"
     ]
    }
   ],
   "source": [
    "a=float(input('a is '))\n",
    "b=float(input('b is '))\n",
    "\n",
    "#The sum of a and b\n",
    "sum=a+b\n",
    "print('sum is ',sum)\n",
    "\n",
    "#The difference when b is subtracted from a\n",
    "dif=a-b\n",
    "print('difference is ', dif)\n",
    "\n",
    "#The product of a and b\n",
    "mult=a*b\n",
    "print('the product is ', mult)\n",
    "\n",
    "#The quotient when a is divided by b\n",
    "div=a/b\n",
    "print('the quotient is ', int(div)) #whole number?\n",
    "\n",
    "#The remainder when a is divided by b\n",
    "rem=a%b\n",
    "print('the remainder is ', rem)\n",
    "\n",
    "#The result of log10 a\n",
    "import math\n",
    "log=math.log10(a)\n",
    "print('log of a is ', log)\n",
    "\n",
    "#The result of a^b\n",
    "exp=a**b\n",
    "print('the result of a^b is', exp)"
   ]
  },
  {
   "cell_type": "markdown",
   "metadata": {},
   "source": [
    "Exercise 12: Distance Between Two Points on Earth "
   ]
  },
  {
   "cell_type": "code",
   "execution_count": 1,
   "metadata": {},
   "outputs": [],
   "source": [
    "#Let (t1, g1) and (t2, g2) be the latitude and longitude of two points on the Earth’s\n",
    "#surface. The distance between these points, following the surface of the Earth, in\n",
    "#kilometers is:\n",
    "\n",
    "\n",
    "import numpy as np"
   ]
  },
  {
   "cell_type": "code",
   "execution_count": null,
   "metadata": {},
   "outputs": [
    {
     "name": "stdout",
     "output_type": "stream",
     "text": [
      "the distance between two points is  2395.9154109027377 km\n"
     ]
    }
   ],
   "source": [
    "l1=float(input('the latitude of point 1 is '))\n",
    "lo1=float(input('the longitude of point 1 is '))\n",
    "l2=float(input('the latitude of point 2 is '))\n",
    "lo2=float(input('the longitude of point 2 is '))\n",
    "\n",
    "#convert to radians \n",
    "l1r=math.radians(l1)\n",
    "lo1r=math.radians(lo1)\n",
    "l2r=math.radians(l2)\n",
    "lo2r=math.radians(lo2)\n",
    "#distance\n",
    "d=6371.01*(np.arccos((np.sin(l1r)*np.sin(l2r)) + (np.cos(l1r)*np.cos(l2r)*np.cos(lo1r-lo2r))))\n",
    "print('the distance between two points is ', d, 'km')"
   ]
  }
 ],
 "metadata": {
  "interpreter": {
   "hash": "ce028680f834da19e0fa9524a9a848a349012cb9d4a81308e4c1d44ee14247e7"
  },
  "kernelspec": {
   "display_name": "Python 3.8.8 64-bit ('base': conda)",
   "name": "python3"
  },
  "language_info": {
   "codemirror_mode": {
    "name": "ipython",
    "version": 3
   },
   "file_extension": ".py",
   "mimetype": "text/x-python",
   "name": "python",
   "nbconvert_exporter": "python",
   "pygments_lexer": "ipython3",
   "version": "3.8.8"
  },
  "orig_nbformat": 4
 },
 "nbformat": 4,
 "nbformat_minor": 2
}
