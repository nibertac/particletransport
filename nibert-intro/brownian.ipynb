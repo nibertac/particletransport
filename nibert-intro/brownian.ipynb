{
 "cells": [
  {
   "cell_type": "code",
   "execution_count": 3,
   "metadata": {},
   "outputs": [],
   "source": [
    "#converting .py to .ipynb bc jupyter is dumb \n",
    "import numpy as np"
   ]
  },
  {
   "cell_type": "code",
   "execution_count": 5,
   "metadata": {},
   "outputs": [],
   "source": [
    "class brownian2:\n",
    "    def __init__(self,xi,yi,zi): #initializes brownian w x,y,z parameters. self. walk=brownian(x,y,z) bc telling it to define itself\n",
    "       self.xi=xi #setting xi parameter position (so self.xi is location x on brownian(x,y,z))\n",
    "       self.yi=yi\n",
    "       self.zi=zi\n",
    "    def path(self,nsteps=100): #move 100 times\n",
    "        #wiener motion, going to create an array w number of steps particle takes from initial position xi\n",
    "        wx=np.ones(nsteps)*self.xi #array filled w same starting point xi\n",
    "        print(np.ones(nsteps))\n",
    "        wy=np.ones(nsteps)*self.yi\n",
    "        wz=np.ones(nsteps)*self.zi\n",
    "        #randomly generate motion in x or y dir\n",
    "        for i in range(1,steps):\n",
    "            xii=np.random.choice([-1,1])\n",
    "            yii=np.random.choice([-1,1])\n",
    "            zii=np.random.choice([-1,1])\n",
    "            wx[i] = w[i-1]+(xii/np.sqrt(nsteps)) #weiner process in each direction\n",
    "            wy[i] = w[i-1]+(yii/np.sqrt(nsteps))\n",
    "            wz[i] = w[i-1]+(zii/np.sqrt(nsteps))"
   ]
  }
 ],
 "metadata": {
  "interpreter": {
   "hash": "ce028680f834da19e0fa9524a9a848a349012cb9d4a81308e4c1d44ee14247e7"
  },
  "kernelspec": {
   "display_name": "Python 3.8.8 64-bit ('base': conda)",
   "name": "python3"
  },
  "language_info": {
   "codemirror_mode": {
    "name": "ipython",
    "version": 3
   },
   "file_extension": ".py",
   "mimetype": "text/x-python",
   "name": "python",
   "nbconvert_exporter": "python",
   "pygments_lexer": "ipython3",
   "version": "3.8.8"
  },
  "orig_nbformat": 4
 },
 "nbformat": 4,
 "nbformat_minor": 2
}
