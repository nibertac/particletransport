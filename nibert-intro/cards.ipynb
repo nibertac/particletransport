{
 "cells": [
  {
   "cell_type": "code",
   "execution_count": 7,
   "source": [
    "# generate random integer values\r\n",
    "import random\r\n",
    "from random import seed\r\n",
    "from random import randint\r\n",
    "\r\n",
    "suit=['hearts', 'diamonds', 'spades', 'clubs']\r\n",
    "card=['Ace of','2 of','3 of','4 of','5 of','6 of','7 of','8 of','9 of','10 of','Jack of','Queen of','King of']\r\n",
    "\r\n",
    "# seed random number generator if want same answer every time\r\n",
    "#random.choices(iterable,k=number) : draws number things from the list, with duplicates\r\n",
    "#random.sample(iterable,k=number) : draws number things from the list, no duplicates\r\n",
    "\r\n",
    "# generate some integers\r\n",
    "for _ in range(52):\r\n",
    "\tsuits = random.choice(suit)\r\n",
    " \r\n",
    "for _ in range(52): #chose 52 times since 52 cards\r\n",
    "  cards=random.choice(card)\r\n",
    "\r\n",
    "print(cards,suits)"
   ],
   "outputs": [
    {
     "output_type": "stream",
     "name": "stdout",
     "text": [
      "6 of clubs\n"
     ]
    }
   ],
   "metadata": {}
  },
  {
   "cell_type": "code",
   "execution_count": 8,
   "source": [
    "#whole deck\r\n",
    "#change suits so same length as cards in deck\r\n",
    "\r\n",
    "s=[suit]*13\r\n",
    "c=[card]*4\r\n",
    "\r\n",
    "#flatten lists \r\n",
    "suit_list = sum(s, [])\r\n",
    "card_list = sum(c, [])\r\n",
    "#print(cards,suits)\r\n",
    "\r\n",
    "random.sample(list(zip(card_list, suit_list)), 10) #how do I clean this up (w/o commas and stuff)\r\n"
   ],
   "outputs": [
    {
     "output_type": "execute_result",
     "data": {
      "text/plain": [
       "[('8 of', 'hearts'),\n",
       " ('6 of', 'clubs'),\n",
       " ('5 of', 'diamonds'),\n",
       " ('Queen of', 'clubs'),\n",
       " ('10 of', 'diamonds'),\n",
       " ('5 of', 'hearts'),\n",
       " ('Jack of', 'clubs'),\n",
       " ('King of', 'hearts'),\n",
       " ('5 of', 'clubs'),\n",
       " ('2 of', 'spades')]"
      ]
     },
     "metadata": {},
     "execution_count": 8
    }
   ],
   "metadata": {}
  },
  {
   "cell_type": "markdown",
   "source": [
    "Cards without repetition"
   ],
   "metadata": {}
  },
  {
   "cell_type": "code",
   "execution_count": 9,
   "source": [
    "#use random sample to not repeat \r\n",
    "# generate some integers\r\n",
    "for _ in range(52):\r\n",
    "\tsuitx = random.sample(suit,1)\r\n",
    " \r\n",
    "for _ in range(52): #chose 52 times since 52 cards\r\n",
    "  cardx=random.sample(card,1)\r\n",
    "\r\n",
    "print(cardx,suitx)"
   ],
   "outputs": [
    {
     "output_type": "stream",
     "name": "stdout",
     "text": [
      "['3 of'] ['diamonds']\n"
     ]
    }
   ],
   "metadata": {}
  },
  {
   "cell_type": "markdown",
   "source": [
    "choosing from deck, matrix style"
   ],
   "metadata": {}
  },
  {
   "cell_type": "code",
   "execution_count": 24,
   "source": [
    "import random\r\n",
    "import numpy as np\r\n",
    "\r\n",
    "#declaring suits\r\n",
    "diamonds=[1,2,3,4,5,6,7,8,9,10,11,12,13]\r\n",
    "hearts=[1,2,3,4,5,6,7,8,9,10,11,12,13]\r\n",
    "spades=[1,2,3,4,5,6,7,8,9,10,11,12,13]\r\n",
    "clubs=[1,2,3,4,5,6,7,8,9,10,11,12,13]\r\n",
    "\r\n",
    "deck=np.empty([4,13])\r\n",
    "\r\n",
    "deckrandom=[[],[],[],[]] #going to show order the cards where randomly drawn for each suit\r\n",
    "\r\n",
    "suits=[1,2,3,4]\r\n",
    "#diamonds=1, hearts=2, clubs=3, spades=4\r\n",
    "while len(suits) > 0 :\r\n",
    "    suit=random.choice(suits) #randomly choose a suit\r\n",
    "    if suit==1:\r\n",
    "        card=random.choice(diamonds) #draw a card\r\n",
    "        diamonds.remove(card)#remove that card from diamonds array, shortens array\r\n",
    "        deckrandom[0].append(card) #diamonds is first index, adding card drawn to first element in array\r\n",
    "#If there are no diamonds left then remove diamonds from the suits set\r\n",
    "        if len(diamonds)==0:\r\n",
    "            suits.remove(suit) #remove diamond from suits array\r\n",
    "    elif suit==2:\r\n",
    "        card=random.choice(hearts)\r\n",
    "        hearts.remove(card)\r\n",
    "        deckrandom[1].append(card)\r\n",
    "#If there are no hearts left then remove diamonds from the suits set\r\n",
    "        if len(hearts)==0:\r\n",
    "            suits.remove(suit)\r\n",
    "    elif suit==3:\r\n",
    "        card=random.choice(clubs)\r\n",
    "        clubs.remove(card)\r\n",
    "        deckrandom[2].append(card)\r\n",
    "        if len(clubs)==0:\r\n",
    "            suits.remove(suit)\r\n",
    "    elif suit==4:\r\n",
    "        card=random.choice(spades)\r\n",
    "        spades.remove(card)\r\n",
    "        deckrandom[3].append(card)\r\n",
    "        if len(spades)==0:\r\n",
    "            suits.remove(suit) #remove spades\r\n",
    "    deck[suit-1][card-1]=card  #if I used suit=[0,1,2,3] then dont need -1, index starts at 0 not 1, so for suits=4, there is no 4 index in suits array only up to position 3\r\n",
    "    #print('suit='+str(suit)+ ';card='+str(card))\r\n",
    "print(deck) #check to make sure matrix full, in order\r\n",
    "print(deckrandom) #shows order we drew in for each suit"
   ],
   "outputs": [
    {
     "output_type": "stream",
     "name": "stdout",
     "text": [
      "[[ 1.  2.  3.  4.  5.  6.  7.  8.  9. 10. 11. 12. 13.]\n",
      " [ 1.  2.  3.  4.  5.  6.  7.  8.  9. 10. 11. 12. 13.]\n",
      " [ 1.  2.  3.  4.  5.  6.  7.  8.  9. 10. 11. 12. 13.]\n",
      " [ 1.  2.  3.  4.  5.  6.  7.  8.  9. 10. 11. 12. 13.]]\n",
      "[[1, 12, 13, 2, 5, 8, 6, 11, 10, 4, 9, 7, 3], [4, 8, 1, 9, 12, 7, 6, 10, 13, 2, 11, 3, 5], [5, 6, 8, 9, 1, 7, 10, 3, 11, 12, 2, 13, 4], [3, 12, 1, 9, 6, 4, 8, 7, 13, 11, 2, 5, 10]]\n"
     ]
    }
   ],
   "metadata": {}
  },
  {
   "cell_type": "markdown",
   "source": [
    "another way"
   ],
   "metadata": {}
  }
 ],
 "metadata": {
  "orig_nbformat": 4,
  "language_info": {
   "name": "python",
   "version": "3.8.8",
   "mimetype": "text/x-python",
   "codemirror_mode": {
    "name": "ipython",
    "version": 3
   },
   "pygments_lexer": "ipython3",
   "nbconvert_exporter": "python",
   "file_extension": ".py"
  },
  "kernelspec": {
   "name": "python3",
   "display_name": "Python 3.8.8 64-bit ('base': conda)"
  },
  "interpreter": {
   "hash": "ce028680f834da19e0fa9524a9a848a349012cb9d4a81308e4c1d44ee14247e7"
  }
 },
 "nbformat": 4,
 "nbformat_minor": 2
}