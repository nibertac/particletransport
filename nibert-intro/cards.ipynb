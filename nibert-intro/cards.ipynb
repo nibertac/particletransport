{
 "cells": [
  {
   "cell_type": "code",
   "execution_count": 1,
   "source": [
    "# generate random integer values\r\n",
    "import random\r\n",
    "from random import seed\r\n",
    "from random import randint\r\n",
    "\r\n",
    "suit=['hearts', 'diamonds', 'spades', 'clubs']\r\n",
    "card=['Ace of','2 of','3 of','4 of','5 of','6 of','7 of','8 of','9 of','10 of','Jack of','Queen of','King of']\r\n",
    "\r\n",
    "# seed random number generator if want same answer every time\r\n",
    "#random.choices(iterable,k=number) : draws number things from the list, with duplicates\r\n",
    "#random.sample(iterable,k=number) : draws number things from the list, no duplicates\r\n",
    "\r\n",
    "# generate some integers\r\n",
    "for _ in range(52):\r\n",
    "\tsuits = random.choice(suit)\r\n",
    " \r\n",
    "for _ in range(52): #chose 52 times since 52 cards\r\n",
    "  cards=random.choice(card)\r\n",
    "\r\n",
    "print(cards,suits)"
   ],
   "outputs": [
    {
     "output_type": "stream",
     "name": "stdout",
     "text": [
      "7 of hearts\n"
     ]
    }
   ],
   "metadata": {}
  },
  {
   "cell_type": "code",
   "execution_count": 2,
   "source": [
    "#whole deck\r\n",
    "#change suits so same length as cards in deck\r\n",
    "\r\n",
    "s=[suit]*13\r\n",
    "c=[card]*4\r\n",
    "\r\n",
    "#flatten lists \r\n",
    "suit_list = sum(s, [])\r\n",
    "card_list = sum(c, [])\r\n",
    "#print(cards,suits)\r\n",
    "\r\n",
    "random.sample(list(zip(card_list, suit_list)), 10) #how do I clean this up (w/o commas and stuff)\r\n"
   ],
   "outputs": [
    {
     "output_type": "execute_result",
     "data": {
      "text/plain": [
       "[('10 of', 'spades'),\n",
       " ('4 of', 'clubs'),\n",
       " ('Queen of', 'spades'),\n",
       " ('King of', 'spades'),\n",
       " ('8 of', 'diamonds'),\n",
       " ('3 of', 'diamonds'),\n",
       " ('Jack of', 'clubs'),\n",
       " ('9 of', 'clubs'),\n",
       " ('Jack of', 'hearts'),\n",
       " ('7 of', 'spades')]"
      ]
     },
     "metadata": {},
     "execution_count": 2
    }
   ],
   "metadata": {}
  },
  {
   "cell_type": "markdown",
   "source": [
    "Cards without repetition"
   ],
   "metadata": {}
  },
  {
   "cell_type": "code",
   "execution_count": 3,
   "source": [
    "#use random sample to not repeat \r\n",
    "# generate some integers\r\n",
    "for _ in range(52):\r\n",
    "\tsuitx = random.sample(suit,1)\r\n",
    " \r\n",
    "for _ in range(52): #chose 52 times since 52 cards\r\n",
    "  cardx=random.sample(card,1)\r\n",
    "\r\n",
    "print(cardx,suitx)"
   ],
   "outputs": [
    {
     "output_type": "stream",
     "name": "stdout",
     "text": [
      "['9 of'] ['spades']\n"
     ]
    }
   ],
   "metadata": {}
  }
 ],
 "metadata": {
  "orig_nbformat": 4,
  "language_info": {
   "name": "python",
   "version": "3.8.8",
   "mimetype": "text/x-python",
   "codemirror_mode": {
    "name": "ipython",
    "version": 3
   },
   "pygments_lexer": "ipython3",
   "nbconvert_exporter": "python",
   "file_extension": ".py"
  },
  "kernelspec": {
   "name": "python3",
   "display_name": "Python 3.8.8 64-bit"
  },
  "interpreter": {
   "hash": "ce028680f834da19e0fa9524a9a848a349012cb9d4a81308e4c1d44ee14247e7"
  }
 },
 "nbformat": 4,
 "nbformat_minor": 2
}