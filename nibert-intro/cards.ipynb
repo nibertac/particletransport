{
 "cells": [
  {
   "cell_type": "code",
   "execution_count": 1,
   "metadata": {},
   "outputs": [
    {
     "name": "stdout",
     "output_type": "stream",
     "text": [
      "10 of hearts\n"
     ]
    }
   ],
   "source": [
    "# generate random integer values\n",
    "import random\n",
    "from random import seed\n",
    "from random import randint\n",
    "\n",
    "suit=['hearts', 'diamonds', 'spades', 'clubs']\n",
    "card=['Ace of','2 of','3 of','4 of','5 of','6 of','7 of','8 of','9 of','10 of','Jack of','Queen of','King of']\n",
    "\n",
    "# seed random number generator if want same answer every time\n",
    "#random.choices(iterable,k=number) : draws number things from the list, with duplicates\n",
    "#random.sample(iterable,k=number) : draws number things from the list, no duplicates\n",
    "\n",
    "# generate some integers\n",
    "for _ in range(52):\n",
    "\tsuits = random.choice(suit)\n",
    " \n",
    "for _ in range(52): #chose 52 times since 52 cards\n",
    "  cards=random.choice(card)\n",
    "\n",
    "print(cards,suits)"
   ]
  },
  {
   "cell_type": "code",
   "execution_count": 2,
   "metadata": {},
   "outputs": [
    {
     "data": {
      "text/plain": [
       "[('2 of', 'diamonds'),\n",
       " ('8 of', 'hearts'),\n",
       " ('6 of', 'clubs'),\n",
       " ('7 of', 'clubs'),\n",
       " ('King of', 'diamonds'),\n",
       " ('Jack of', 'spades'),\n",
       " ('3 of', 'hearts'),\n",
       " ('5 of', 'diamonds'),\n",
       " ('Ace of', 'spades'),\n",
       " ('10 of', 'spades')]"
      ]
     },
     "execution_count": 2,
     "metadata": {},
     "output_type": "execute_result"
    }
   ],
   "source": [
    "#whole deck\n",
    "#change suits so same length as cards in deck\n",
    "\n",
    "s=[suit]*13\n",
    "c=[card]*4\n",
    "\n",
    "#flatten lists \n",
    "suit_list = sum(s, [])\n",
    "card_list = sum(c, [])\n",
    "#print(cards,suits)\n",
    "\n",
    "random.sample(list(zip(card_list, suit_list)), 10) #how do I clean this up (w/o commas and stuff)\n"
   ]
  },
  {
   "cell_type": "markdown",
   "metadata": {},
   "source": [
    "Cards without repetition"
   ]
  },
  {
   "cell_type": "code",
   "execution_count": 3,
   "metadata": {},
   "outputs": [
    {
     "name": "stdout",
     "output_type": "stream",
     "text": [
      "['Ace of'] ['clubs']\n"
     ]
    }
   ],
   "source": [
    "#use random sample to not repeat \n",
    "# generate some integers\n",
    "for _ in range(52):\n",
    "\tsuitx = random.sample(suit,1)\n",
    " \n",
    "for _ in range(52): #chose 52 times since 52 cards\n",
    "  cardx=random.sample(card,1)\n",
    "\n",
    "print(cardx,suitx)"
   ]
  },
  {
   "cell_type": "markdown",
   "metadata": {},
   "source": [
    "choosing from deck, matrix style"
   ]
  },
  {
   "cell_type": "code",
   "execution_count": 4,
   "metadata": {},
   "outputs": [
    {
     "name": "stdout",
     "output_type": "stream",
     "text": [
      "check for full array so all of deck was drawn [[ 1.  2.  3.  4.  5.  6.  7.  8.  9. 10. 11. 12. 13.]\n",
      " [ 1.  2.  3.  4.  5.  6.  7.  8.  9. 10. 11. 12. 13.]\n",
      " [ 1.  2.  3.  4.  5.  6.  7.  8.  9. 10. 11. 12. 13.]\n",
      " [ 1.  2.  3.  4.  5.  6.  7.  8.  9. 10. 11. 12. 13.]]\n",
      "order numbers were drawn from each suit [[1, 3, 6, 11, 5, 8, 9, 4, 12, 2, 10, 7, 13], [8, 4, 7, 1, 2, 5, 11, 3, 13, 12, 9, 6, 10], [12, 2, 11, 5, 9, 3, 8, 1, 7, 13, 6, 10, 4], [11, 13, 10, 6, 8, 12, 7, 4, 3, 5, 1, 9, 2]]\n"
     ]
    }
   ],
   "source": [
    "import random\n",
    "import numpy as np\n",
    "\n",
    "#declaring suits\n",
    "diamonds=[1,2,3,4,5,6,7,8,9,10,11,12,13]\n",
    "hearts=[1,2,3,4,5,6,7,8,9,10,11,12,13]\n",
    "spades=[1,2,3,4,5,6,7,8,9,10,11,12,13]\n",
    "clubs=[1,2,3,4,5,6,7,8,9,10,11,12,13]\n",
    "\n",
    "deck=np.empty([4,13])\n",
    "\n",
    "deckrandom=[[],[],[],[]] #going to show order the cards where randomly drawn for each suit\n",
    "\n",
    "suits=[1,2,3,4]\n",
    "#diamonds=1, hearts=2, clubs=3, spades=4\n",
    "while len(suits) > 0 :\n",
    "    suit=random.choice(suits) #randomly choose a suit\n",
    "    if suit==1:\n",
    "        card=random.choice(diamonds) #draw a card\n",
    "        diamonds.remove(card)#remove that card from diamonds array, shortens array\n",
    "        deckrandom[0].append(card) #diamonds is first index, adding card drawn to first diamonds (0 position) in array\n",
    "#If there are no diamonds left then remove diamonds from the suits set\n",
    "        if len(diamonds)==0:\n",
    "            suits.remove(suit) #remove diamond from suits array\n",
    "    elif suit==2:\n",
    "        card=random.choice(hearts)\n",
    "        hearts.remove(card)\n",
    "        deckrandom[1].append(card)\n",
    "#If there are no hearts left then remove diamonds from the suits set\n",
    "        if len(hearts)==0:\n",
    "            suits.remove(suit)\n",
    "    elif suit==3:\n",
    "        card=random.choice(clubs)\n",
    "        clubs.remove(card)\n",
    "        deckrandom[2].append(card)\n",
    "        if len(clubs)==0:\n",
    "            suits.remove(suit)\n",
    "    elif suit==4:\n",
    "        card=random.choice(spades)\n",
    "        spades.remove(card)\n",
    "        deckrandom[3].append(card)\n",
    "        if len(spades)==0:\n",
    "            suits.remove(suit) #remove spades\n",
    "    deck[suit-1][card-1]=card  #if I used suit=[0,1,2,3] then dont need -1, index starts at 0 not 1, so for suits=4, there is no 4 index in suits array only up to position 3\n",
    "    #print('suit='+str(suit)+ ';card='+str(card))\n",
    "print('check for full array so all of deck was drawn', deck) #check to make sure matrix full, in order\n",
    "print('order numbers were drawn from each suit',deckrandom) #shows order we drew in for each suit"
   ]
  }
 ],
 "metadata": {
  "interpreter": {
   "hash": "ce028680f834da19e0fa9524a9a848a349012cb9d4a81308e4c1d44ee14247e7"
  },
  "kernelspec": {
   "display_name": "Python 3.8.8 64-bit ('base': conda)",
   "name": "python3"
  },
  "language_info": {
   "codemirror_mode": {
    "name": "ipython",
    "version": 3
   },
   "file_extension": ".py",
   "mimetype": "text/x-python",
   "name": "python",
   "nbconvert_exporter": "python",
   "pygments_lexer": "ipython3",
   "version": "3.8.8"
  },
  "orig_nbformat": 4
 },
 "nbformat": 4,
 "nbformat_minor": 2
}
