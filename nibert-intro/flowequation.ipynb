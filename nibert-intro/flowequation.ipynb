{
 "cells": [
  {
   "cell_type": "markdown",
   "source": [
    "Hagan poiseuille \r\n",
    "Create a function in which the user sends in deltaP/L, viscosity, R, and r, and it returns the velocity v_z (z component).  R is the tube radius and r is the position inside that radius where we want to know v_z"
   ],
   "metadata": {}
  },
  {
   "cell_type": "code",
   "execution_count": 18,
   "source": [
    "def getFlow(dP, mu, R,L, r): \r\n",
    "    vel=(-dP*((R**2)-(r**2)))/(4*mu*L)\r\n",
    "    return vel\r\n",
    "\r\n",
    "getFlow(1500,.6,.2,3,.1)\r\n"
   ],
   "outputs": [
    {
     "output_type": "execute_result",
     "data": {
      "text/plain": [
       "-6.250000000000002"
      ]
     },
     "metadata": {},
     "execution_count": 18
    }
   ],
   "metadata": {}
  },
  {
   "cell_type": "code",
   "execution_count": null,
   "source": [
    "#Don't need this part, just to help later on\r\n",
    "dP=float(input('pressure change is'))\r\n",
    "L=float(input('characteristic pipe length'))\r\n",
    "mu=float(input('viscosity'))\r\n",
    "R=float(input('pipe radius is'))\r\n",
    "r=float(input('radius of interest'))\r\n",
    "v=float(input('velocity is'))\r\n",
    "q=float(input('production rate is'))"
   ],
   "outputs": [],
   "metadata": {}
  },
  {
   "cell_type": "code",
   "execution_count": 19,
   "source": [
    "import math\r\n",
    "import numpy as np"
   ],
   "outputs": [],
   "metadata": {}
  },
  {
   "cell_type": "markdown",
   "source": [
    "Radial flow- I DID CYLINDRICAL NOT SPHERICAL \r\n",
    "r2=x2+y2 \r\n",
    "tanθ=yx \r\n",
    "z=z\r\n",
    "\r\n",
    "x=rcosθ \r\n",
    "y=rsinθ \r\n",
    "z=z"
   ],
   "metadata": {}
  },
  {
   "cell_type": "code",
   "execution_count": 34,
   "source": [
    "def vz(dP, mu, R,L, radius): \r\n",
    "    return (-dP*((R**2)-(radius**2)))/(4*mu*L) #equation for velocity\r\n",
    "def rd(x,y,z): #now define radius\r\n",
    "    radius=math.sqrt((x**2)+(y**2)) #magnitude of radius\r\n",
    "    velocity=vz(1400,.6,.2,12,radius) \r\n",
    "    return velocity\r\n",
    "rd(7,7,7) #identify these points in radius function, which finds the radius and then runs the velocity function and returns the velocity function written above\r\n"
   ],
   "outputs": [
    {
     "output_type": "execute_result",
     "data": {
      "text/plain": [
       "4761.944444444445"
      ]
     },
     "metadata": {},
     "execution_count": 34
    }
   ],
   "metadata": {}
  },
  {
   "cell_type": "code",
   "execution_count": 35,
   "source": [
    "def flow(x1,y1,z1,dP1,mu1,R1,L1): #this may be easier, do it all at once\r\n",
    "    radius1=math.sqrt((x1**2)+(y1**2)) #define radius to be used next\r\n",
    "    velocity1=(-dP1*((R1**2)-(radius1**2)))/(4*mu1*L1) #now define velocity using radius\r\n",
    "    return velocity1\r\n",
    "\r\n",
    "flow(7,7,7,1400,.6,.2,12)\r\n"
   ],
   "outputs": [
    {
     "output_type": "execute_result",
     "data": {
      "text/plain": [
       "4761.944444444445"
      ]
     },
     "metadata": {},
     "execution_count": 35
    }
   ],
   "metadata": {}
  },
  {
   "cell_type": "markdown",
   "source": [
    "Matrices "
   ],
   "metadata": {}
  },
  {
   "cell_type": "code",
   "execution_count": 39,
   "source": [
    "#this is not modular\r\n",
    "A = [[1,0,0],[1,0,1],[0,0,1]]\r\n",
    "b = [0,1,0]\r\n",
    "x = np.linalg.lstsq(A,b) #rcond=None, to keep using the old behavior, use rcond=-1? \r\n",
    "x"
   ],
   "outputs": [
    {
     "output_type": "stream",
     "name": "stderr",
     "text": [
      "<ipython-input-39-5604af3e51d3>:4: FutureWarning: `rcond` parameter will change to the default of machine precision times ``max(M, N)`` where M and N are the input matrix dimensions.\n",
      "To use the future default and silence this warning we advise to pass `rcond=None`, to keep using the old, explicitly pass `rcond=-1`.\n",
      "  x = np.linalg.lstsq(A,b)\n"
     ]
    },
    {
     "output_type": "execute_result",
     "data": {
      "text/plain": [
       "(array([0.33333333, 0.        , 0.33333333]),\n",
       " array([], dtype=float64),\n",
       " 2,\n",
       " array([1.73205081, 1.        , 0.        ]))"
      ]
     },
     "metadata": {},
     "execution_count": 39
    }
   ],
   "metadata": {}
  }
 ],
 "metadata": {
  "orig_nbformat": 4,
  "language_info": {
   "name": "python",
   "version": "3.8.8",
   "mimetype": "text/x-python",
   "codemirror_mode": {
    "name": "ipython",
    "version": 3
   },
   "pygments_lexer": "ipython3",
   "nbconvert_exporter": "python",
   "file_extension": ".py"
  },
  "kernelspec": {
   "name": "python3",
   "display_name": "Python 3.8.8 64-bit"
  },
  "interpreter": {
   "hash": "ce028680f834da19e0fa9524a9a848a349012cb9d4a81308e4c1d44ee14247e7"
  }
 },
 "nbformat": 4,
 "nbformat_minor": 2
}