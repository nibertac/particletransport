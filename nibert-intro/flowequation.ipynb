{
 "cells": [
  {
   "cell_type": "markdown",
   "metadata": {},
   "source": [
    "Hagan poiseuille \n",
    "Create a function in which the user sends in deltaP/L, viscosity, R, and r, and it returns the velocity v_z (z component).  R is the tube radius and r is the position inside that radius where we want to know v_z"
   ]
  },
  {
   "cell_type": "code",
   "execution_count": 8,
   "metadata": {},
   "outputs": [
    {
     "data": {
      "text/plain": [
       "-6.250000000000002"
      ]
     },
     "execution_count": 8,
     "metadata": {},
     "output_type": "execute_result"
    }
   ],
   "source": [
    "def getFlow(dP, mu, R,L, r): \n",
    "    vel=(-dP*((R**2)-(r**2)))/(4*mu*L)\n",
    "    return vel\n",
    "\n",
    "getFlow(1500,.6,.2,3,.1)"
   ]
  },
  {
   "cell_type": "code",
   "execution_count": 5,
   "metadata": {},
   "outputs": [],
   "source": [
    "import math\n",
    "import numpy as np"
   ]
  },
  {
   "cell_type": "markdown",
   "metadata": {},
   "source": [
    "Radial flow- I DID CYLINDRICAL NOT SPHERICAL \n",
    "r2=x2+y2 \n",
    "tanθ=yx \n",
    "z=z\n",
    "\n",
    "x=rcosθ \n",
    "y=rsinθ \n",
    "z=z"
   ]
  },
  {
   "cell_type": "markdown",
   "metadata": {},
   "source": [
    "Velocity w set values"
   ]
  },
  {
   "cell_type": "code",
   "execution_count": 17,
   "metadata": {},
   "outputs": [
    {
     "data": {
      "text/plain": [
       "4761.944444444445"
      ]
     },
     "execution_count": 17,
     "metadata": {},
     "output_type": "execute_result"
    }
   ],
   "source": [
    "def rd(x,y,z): #now define radius\n",
    "    dP=1400\n",
    "    mu=.6\n",
    "    L=12\n",
    "    R=.2\n",
    "    radius=math.sqrt((x**2)+(y**2)) #magnitude of radius\n",
    "    velocity=(-dP*((R**2)-(radius**2)))/(4*mu*L)\n",
    "    return velocity\n",
    "rd(7,7,7) #identify these points in radius function, which finds the radius and then runs the velocity function and returns the velocity function written above\n"
   ]
  },
  {
   "cell_type": "code",
   "execution_count": 11,
   "metadata": {},
   "outputs": [
    {
     "data": {
      "text/plain": [
       "4761.944444444445"
      ]
     },
     "execution_count": 11,
     "metadata": {},
     "output_type": "execute_result"
    }
   ],
   "source": [
    "def flow(x1,y1,z1,dP1,mu1,L1,R1): #this may be easier, do it all at once\n",
    "    radius1=math.sqrt((x1**2)+(y1**2)) #define radius to be used next\n",
    "    velocity1=(-dP1*((R1**2)-(radius1**2)))/(4*mu1*L1) #now define velocity using radius\n",
    "    return velocity1\n",
    "\n",
    "flow(7,7,7,1400,.6,12,.2)\n"
   ]
  },
  {
   "cell_type": "markdown",
   "metadata": {},
   "source": [
    "Velocity not centered about z axis \n",
    "-need (x,y,z) and a (xc,yc,zc) (central axis of cylinder) and find distance there"
   ]
  },
  {
   "cell_type": "code",
   "execution_count": 16,
   "metadata": {},
   "outputs": [],
   "source": [
    "def rad(x,xc,y,yc,z):\n",
    "    radius=math.sqrt((x-xc)**2+(y-yc)**2)\n",
    "    def vel(radius,dp,mu,L,R):\n",
    "        vel_z=(-dp*(R**2-radius**2))/(4*mu*L)\n",
    "        vel_x=0\n",
    "        vel_y=0\n",
    "        return vel_z"
   ]
  },
  {
   "cell_type": "markdown",
   "metadata": {},
   "source": [
    "Matrices "
   ]
  },
  {
   "cell_type": "code",
   "execution_count": 16,
   "metadata": {},
   "outputs": [
    {
     "data": {
      "text/plain": [
       "array([ 5.,  1., -2.])"
      ]
     },
     "execution_count": 16,
     "metadata": {},
     "output_type": "execute_result"
    }
   ],
   "source": [
    "#this is not modular\n",
    "A = [[1,4,1],[1,6,-1],[2,-1,2]]\n",
    "b = [7,13,5]\n",
    "x = np.linalg.solve(A, b)\n",
    "#np.dot(np.linalg.inv(A), b) \n",
    "x"
   ]
  }
 ],
 "metadata": {
  "interpreter": {
   "hash": "ce028680f834da19e0fa9524a9a848a349012cb9d4a81308e4c1d44ee14247e7"
  },
  "kernelspec": {
   "display_name": "Python 3.8.8 64-bit ('base': conda)",
   "name": "python3"
  },
  "language_info": {
   "codemirror_mode": {
    "name": "ipython",
    "version": 3
   },
   "file_extension": ".py",
   "mimetype": "text/x-python",
   "name": "python",
   "nbconvert_exporter": "python",
   "pygments_lexer": "ipython3",
   "version": "3.8.8"
  },
  "orig_nbformat": 4
 },
 "nbformat": 4,
 "nbformat_minor": 2
}
