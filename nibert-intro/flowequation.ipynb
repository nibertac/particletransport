{
 "cells": [
  {
   "cell_type": "markdown",
   "source": [
    "Hagan poiseuille \r\n",
    "Create a function in which the user sends in deltaP/L, viscosity, R, and r, and it returns the velocity v_z (z component).  R is the tube radius and r is the position inside that radius where we want to know v_z"
   ],
   "metadata": {}
  },
  {
   "cell_type": "code",
   "execution_count": 8,
   "source": [
    "def getFlow(dP, mu, R,L, r): \r\n",
    "    vel=(-dP*((R**2)-(r**2)))/(4*mu*L)\r\n",
    "    return vel\r\n",
    "\r\n",
    "getFlow(1500,.6,.2,3,.1)\r\n"
   ],
   "outputs": [
    {
     "output_type": "execute_result",
     "data": {
      "text/plain": [
       "-6.250000000000002"
      ]
     },
     "metadata": {},
     "execution_count": 8
    }
   ],
   "metadata": {}
  },
  {
   "cell_type": "code",
   "execution_count": 9,
   "source": [
    "import math\r\n",
    "import numpy as np"
   ],
   "outputs": [],
   "metadata": {}
  },
  {
   "cell_type": "markdown",
   "source": [
    "Radial flow- I DID CYLINDRICAL NOT SPHERICAL \r\n",
    "r2=x2+y2 \r\n",
    "tanθ=yx \r\n",
    "z=z\r\n",
    "\r\n",
    "x=rcosθ \r\n",
    "y=rsinθ \r\n",
    "z=z"
   ],
   "metadata": {}
  },
  {
   "cell_type": "markdown",
   "source": [
    "Velocity w set values"
   ],
   "metadata": {}
  },
  {
   "cell_type": "code",
   "execution_count": 17,
   "source": [
    "def rd(x,y,z): #now define radius\r\n",
    "    dP=1400\r\n",
    "    mu=.6\r\n",
    "    L=12\r\n",
    "    R=.2\r\n",
    "    radius=math.sqrt((x**2)+(y**2)) #magnitude of radius\r\n",
    "    velocity=(-dP*((R**2)-(radius**2)))/(4*mu*L)\r\n",
    "    return velocity\r\n",
    "rd(7,7,7) #identify these points in radius function, which finds the radius and then runs the velocity function and returns the velocity function written above\r\n"
   ],
   "outputs": [
    {
     "output_type": "execute_result",
     "data": {
      "text/plain": [
       "4761.944444444445"
      ]
     },
     "metadata": {},
     "execution_count": 17
    }
   ],
   "metadata": {}
  },
  {
   "cell_type": "code",
   "execution_count": 11,
   "source": [
    "def flow(x1,y1,z1,dP1,mu1,L1,R1): #this may be easier, do it all at once\r\n",
    "    radius1=math.sqrt((x1**2)+(y1**2)) #define radius to be used next\r\n",
    "    velocity1=(-dP1*((R1**2)-(radius1**2)))/(4*mu1*L1) #now define velocity using radius\r\n",
    "    return velocity1\r\n",
    "\r\n",
    "flow(7,7,7,1400,.6,12,.2)\r\n"
   ],
   "outputs": [
    {
     "output_type": "execute_result",
     "data": {
      "text/plain": [
       "4761.944444444445"
      ]
     },
     "metadata": {},
     "execution_count": 11
    }
   ],
   "metadata": {}
  },
  {
   "cell_type": "markdown",
   "source": [
    "Matrices "
   ],
   "metadata": {}
  },
  {
   "cell_type": "code",
   "execution_count": 16,
   "source": [
    "#this is not modular\r\n",
    "A = [[1,4,1],[1,6,-1],[2,-1,2]]\r\n",
    "b = [7,13,5]\r\n",
    "x = np.linalg.solve(A, b)\r\n",
    "#np.dot(np.linalg.inv(A), b) \r\n",
    "x"
   ],
   "outputs": [
    {
     "output_type": "execute_result",
     "data": {
      "text/plain": [
       "array([ 5.,  1., -2.])"
      ]
     },
     "metadata": {},
     "execution_count": 16
    }
   ],
   "metadata": {}
  }
 ],
 "metadata": {
  "orig_nbformat": 4,
  "language_info": {
   "name": "python",
   "version": "3.8.8",
   "mimetype": "text/x-python",
   "codemirror_mode": {
    "name": "ipython",
    "version": 3
   },
   "pygments_lexer": "ipython3",
   "nbconvert_exporter": "python",
   "file_extension": ".py"
  },
  "kernelspec": {
   "name": "python3",
   "display_name": "Python 3.8.8 64-bit ('base': conda)"
  },
  "interpreter": {
   "hash": "ce028680f834da19e0fa9524a9a848a349012cb9d4a81308e4c1d44ee14247e7"
  }
 },
 "nbformat": 4,
 "nbformat_minor": 2
}