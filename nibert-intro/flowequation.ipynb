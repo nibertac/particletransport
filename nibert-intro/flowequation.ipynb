{
 "cells": [
  {
   "cell_type": "markdown",
   "source": [
    "Hagan poiseuille \r\n",
    "Create a function in which the user sends in deltaP/L, viscosity, R, and r, and it returns the velocity v_z (z component).  R is the tube radius and r is the position inside that radius where we want to know v_z"
   ],
   "metadata": {}
  },
  {
   "cell_type": "code",
   "execution_count": 2,
   "source": [
    "def getFlow(dP, mu, R,L, r): \r\n",
    "    vel=(-dP*((R**2)-(r**2)))/(4*mu*L)\r\n",
    "    return vel"
   ],
   "outputs": [
    {
     "output_type": "execute_result",
     "data": {
      "text/plain": [
       "-6.250000000000002"
      ]
     },
     "metadata": {},
     "execution_count": 2
    }
   ],
   "metadata": {}
  },
  {
   "cell_type": "code",
   "execution_count": null,
   "source": [
    "#Don't need this part, just to help later on\r\n",
    "dP=float(input('pressure change is'))\r\n",
    "L=float(input('characteristic pipe length'))\r\n",
    "mu=float(input('viscosity'))\r\n",
    "R=float(input('pipe radius is'))\r\n",
    "r=float(input('radius of interest'))\r\n",
    "v=float(input('velocity is'))\r\n",
    "q=float(input('production rate is'))"
   ],
   "outputs": [],
   "metadata": {}
  },
  {
   "cell_type": "markdown",
   "source": [
    "Radial flow "
   ],
   "metadata": {}
  },
  {
   "cell_type": "code",
   "execution_count": null,
   "source": [],
   "outputs": [],
   "metadata": {}
  }
 ],
 "metadata": {
  "orig_nbformat": 4,
  "language_info": {
   "name": "python",
   "version": "3.9.7",
   "mimetype": "text/x-python",
   "codemirror_mode": {
    "name": "ipython",
    "version": 3
   },
   "pygments_lexer": "ipython3",
   "nbconvert_exporter": "python",
   "file_extension": ".py"
  },
  "kernelspec": {
   "name": "python3",
   "display_name": "Python 3.9.7 64-bit (windows store)"
  },
  "interpreter": {
   "hash": "6d90d0b09c16003707d6b70705af06d7c5eda5f626bc7b758b2dab048f164ff8"
  }
 },
 "nbformat": 4,
 "nbformat_minor": 2
}