{
 "cells": [
  {
   "cell_type": "markdown",
   "metadata": {},
   "source": [
    "choosing random point on surface of cylinder\n"
   ]
  },
  {
   "cell_type": "code",
   "execution_count": 23,
   "metadata": {},
   "outputs": [],
   "source": [
    "import numpy as np\n",
    "import math\n",
    "import random\n",
    "import matplotlib as plt\n",
    "#from models.brownian1 import brownianClass\n"
   ]
  },
  {
   "cell_type": "code",
   "execution_count": 4,
   "metadata": {},
   "outputs": [],
   "source": [
    "class brownian:\n",
    "    # initializes brownian w x,y,z parameters. self. walk=brownian(x,y,z) bc telling it to define itself\n",
    "    def __init__(self, xi, yi, zi):\n",
    "        # setting xi parameter position (so self.xi is location x on brownian(x,y,z))\n",
    "        self.xi = xi\n",
    "        self.yi = yi\n",
    "        self.zi = zi\n",
    "\n",
    "    def path(self, nsteps=5):  # move 100 times\n",
    "        # wiener motion, going to create an array w number of steps particle takes from initial position xi\n",
    "        wx = np.ones(nsteps)*self.xi  # array filled w same starting point xi\n",
    "        wy = np.ones(nsteps)*self.yi\n",
    "        wz = np.ones(nsteps)*self.zi\n",
    "    # randomly generate motion in x or y dir\n",
    "        for i in range(1, nsteps):\n",
    "            xii = np.random.choice([-1, 1])\n",
    "            yii = np.random.choice([-1, 1])\n",
    "            zii = np.random.choice([-1, 1])\n",
    "            # weiner process in each direction\n",
    "            wx[i] = wx[i-1]+(xii/np.sqrt(nsteps))\n",
    "            wy[i] = wy[i-1]+(yii/np.sqrt(nsteps))\n",
    "            wz[i] = wz[i-1]+(zii/np.sqrt(nsteps))\n",
    "            walk = brownian(x, y, z)\n",
    "            print(walk.path(20))\n"
   ]
  },
  {
   "cell_type": "code",
   "execution_count": 19,
   "metadata": {},
   "outputs": [
    {
     "name": "stdout",
     "output_type": "stream",
     "text": [
      "running for loop\n"
     ]
    },
    {
     "ename": "AttributeError",
     "evalue": "'brownian' object has no attribute 'joe'",
     "output_type": "error",
     "traceback": [
      "\u001b[1;31m---------------------------------------------------------------------------\u001b[0m",
      "\u001b[1;31mAttributeError\u001b[0m                            Traceback (most recent call last)",
      "\u001b[1;32m<ipython-input-19-d1c69e6d3063>\u001b[0m in \u001b[0;36m<module>\u001b[1;34m\u001b[0m\n\u001b[0;32m      9\u001b[0m     \u001b[0mz\u001b[0m \u001b[1;33m=\u001b[0m \u001b[0mrandom\u001b[0m\u001b[1;33m.\u001b[0m\u001b[0muniform\u001b[0m\u001b[1;33m(\u001b[0m\u001b[1;36m0\u001b[0m\u001b[1;33m,\u001b[0m \u001b[0mL\u001b[0m\u001b[1;33m)\u001b[0m  \u001b[1;31m# random length\u001b[0m\u001b[1;33m\u001b[0m\u001b[1;33m\u001b[0m\u001b[0m\n\u001b[0;32m     10\u001b[0m     \u001b[0mloc\u001b[0m \u001b[1;33m=\u001b[0m \u001b[0mbrownian\u001b[0m\u001b[1;33m(\u001b[0m\u001b[0mx\u001b[0m\u001b[1;33m,\u001b[0m \u001b[0my\u001b[0m\u001b[1;33m,\u001b[0m \u001b[0mz\u001b[0m\u001b[1;33m)\u001b[0m\u001b[1;33m\u001b[0m\u001b[1;33m\u001b[0m\u001b[0m\n\u001b[1;32m---> 11\u001b[1;33m     \u001b[0mloc\u001b[0m\u001b[1;33m.\u001b[0m\u001b[0mjoe\u001b[0m\u001b[1;33m(\u001b[0m\u001b[1;34m\"Hello World\"\u001b[0m\u001b[1;33m)\u001b[0m\u001b[1;33m\u001b[0m\u001b[1;33m\u001b[0m\u001b[0m\n\u001b[0m\u001b[0;32m     12\u001b[0m     \u001b[0mloc\u001b[0m\u001b[1;33m.\u001b[0m\u001b[0mpath\u001b[0m\u001b[1;33m(\u001b[0m\u001b[1;36m10\u001b[0m\u001b[1;33m)\u001b[0m\u001b[1;33m\u001b[0m\u001b[1;33m\u001b[0m\u001b[0m\n",
      "\u001b[1;31mAttributeError\u001b[0m: 'brownian' object has no attribute 'joe'"
     ]
    }
   ],
   "source": [
    "R = .2  # radius of pipe (ft)\n",
    "L = 15  # length of pipe (ft)\n",
    "\n",
    "for i in range(2):  # number of trials\n",
    "    print(\"running for loop\")\n",
    "    theta = random.uniform(0, 2*math.pi)  # pick any theta 0 to 2pi\n",
    "    x = R*math.cos(theta)  # on edge of pipe\n",
    "    y = R*math.sin(theta)\n",
    "    z = random.uniform(0, L)  # random length\n",
    "    loc = brownian(x, y, z)\n",
    "    loc.joe(\"Hello World\")\n",
    "    loc.path(10)\n"
   ]
  }
 ],
 "metadata": {
  "interpreter": {
   "hash": "ce028680f834da19e0fa9524a9a848a349012cb9d4a81308e4c1d44ee14247e7"
  },
  "kernelspec": {
   "display_name": "Python 3.8.8 64-bit ('base': conda)",
   "name": "python3"
  },
  "language_info": {
   "codemirror_mode": {
    "name": "ipython",
    "version": 3
   },
   "file_extension": ".py",
   "mimetype": "text/x-python",
   "name": "python",
   "nbconvert_exporter": "python",
   "pygments_lexer": "ipython3",
   "version": "3.8.8"
  },
  "orig_nbformat": 4
 },
 "nbformat": 4,
 "nbformat_minor": 2
}
