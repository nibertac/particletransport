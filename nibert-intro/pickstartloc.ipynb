{
 "cells": [
  {
   "cell_type": "markdown",
   "metadata": {},
   "source": [
    "choosing random point on surface of cylinder"
   ]
  },
  {
   "cell_type": "code",
   "execution_count": 3,
   "metadata": {},
   "outputs": [],
   "source": [
    "import numpy as np\n",
    "import math \n",
    "import random\n",
    "import matplotlib as plt\n",
    "#from  import brownian2"
   ]
  },
  {
   "cell_type": "code",
   "execution_count": 4,
   "metadata": {},
   "outputs": [],
   "source": [
    "class brownian:\n",
    "    def __init__(self,xi,yi,zi): #initializes brownian w x,y,z parameters. self. walk=brownian(x,y,z) bc telling it to define itself\n",
    "        self.xi=xi #setting xi parameter position (so self.xi is location x on brownian(x,y,z))\n",
    "        self.yi=yi\n",
    "        self.zi=zi\n",
    "    def path(self,nsteps=5): #move 100 times\n",
    "    #wiener motion, going to create an array w number of steps particle takes from initial position xi\n",
    "        wx=np.ones(nsteps)*self.xi #array filled w same starting point xi\n",
    "        wy=np.ones(nsteps)*self.yi\n",
    "        wz=np.ones(nsteps)*self.zi\n",
    "    #randomly generate motion in x or y dir\n",
    "        for i in range(1,nsteps):\n",
    "            xii=np.random.choice([-1,1])\n",
    "            yii=np.random.choice([-1,1])\n",
    "            zii=np.random.choice([-1,1])\n",
    "            wx[i]=wx[i-1]+(xii/np.sqrt(nsteps)) #weiner process in each direction\n",
    "            wy[i]=wy[i-1]+(yii/np.sqrt(nsteps))\n",
    "            wz[i]=wz[i-1]+(zii/np.sqrt(nsteps))\n",
    "            walk=brownian(x,y,z)\n",
    "            print(walk.path(20))"
   ]
  },
  {
   "cell_type": "code",
   "execution_count": null,
   "metadata": {},
   "outputs": [
    {
     "ename": "Error",
     "evalue": "Kernel is dead",
     "output_type": "error",
     "traceback": [
      "Error: Kernel is dead",
      "at g._sendKernelShellControl (c:\\Users\\acnib\\.vscode\\extensions\\ms-toolsai.jupyter-2021.9.1101343141\\out\\client\\extension.js:52:1006305)",
      "at g.sendShellMessage (c:\\Users\\acnib\\.vscode\\extensions\\ms-toolsai.jupyter-2021.9.1101343141\\out\\client\\extension.js:52:1006074)",
      "at g.requestExecute (c:\\Users\\acnib\\.vscode\\extensions\\ms-toolsai.jupyter-2021.9.1101343141\\out\\client\\extension.js:52:1008616)",
      "at d.requestExecute (c:\\Users\\acnib\\.vscode\\extensions\\ms-toolsai.jupyter-2021.9.1101343141\\out\\client\\extension.js:37:328037)",
      "at S.requestExecute (c:\\Users\\acnib\\.vscode\\extensions\\ms-toolsai.jupyter-2021.9.1101343141\\out\\client\\extension.js:32:19306)",
      "at w.executeCodeCell (c:\\Users\\acnib\\.vscode\\extensions\\ms-toolsai.jupyter-2021.9.1101343141\\out\\client\\extension.js:52:300924)",
      "at w.execute (c:\\Users\\acnib\\.vscode\\extensions\\ms-toolsai.jupyter-2021.9.1101343141\\out\\client\\extension.js:52:300551)",
      "at w.start (c:\\Users\\acnib\\.vscode\\extensions\\ms-toolsai.jupyter-2021.9.1101343141\\out\\client\\extension.js:52:296215)",
      "at runMicrotasks (<anonymous>)",
      "at processTicksAndRejections (internal/process/task_queues.js:93:5)",
      "at async t.CellExecutionQueue.executeQueuedCells (c:\\Users\\acnib\\.vscode\\extensions\\ms-toolsai.jupyter-2021.9.1101343141\\out\\client\\extension.js:52:310950)",
      "at async t.CellExecutionQueue.start (c:\\Users\\acnib\\.vscode\\extensions\\ms-toolsai.jupyter-2021.9.1101343141\\out\\client\\extension.js:52:310490)"
     ]
    }
   ],
   "source": [
    "R=.2 #radius of pipe (ft)\n",
    "L=15 #length of pipe (ft)\n",
    "\n",
    "\n",
    "\n",
    "for i in range(2): #number of trials\n",
    "    theta=random.uniform(0,2*math.pi) #pick any theta 0 to 2pi\n",
    "    x=R*math.cos(theta) #on edge of pipe \n",
    "    y=R*math.sin(theta)\n",
    "    z=random.uniform(0,L) #random length\n",
    "    loc=brownian(x,y,z)\n",
    "    print(loc.path())\n",
    "\n",
    "\n",
    "          \n",
    "    "
   ]
  }
 ],
 "metadata": {
  "interpreter": {
   "hash": "ce028680f834da19e0fa9524a9a848a349012cb9d4a81308e4c1d44ee14247e7"
  },
  "kernelspec": {
   "display_name": "Python 3.8.8 64-bit ('base': conda)",
   "name": "python3"
  },
  "language_info": {
   "codemirror_mode": {
    "name": "ipython",
    "version": 3
   },
   "file_extension": ".py",
   "mimetype": "text/x-python",
   "name": "python",
   "nbconvert_exporter": "python",
   "pygments_lexer": "ipython3",
   "version": "3.8.8"
  },
  "orig_nbformat": 4
 },
 "nbformat": 4,
 "nbformat_minor": 2
}
